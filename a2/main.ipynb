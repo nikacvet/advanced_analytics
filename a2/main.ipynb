{
 "cells": [
  {
   "cell_type": "markdown",
   "metadata": {},
   "source": [
    "# Assignment 2: Deep learning on images"
   ]
  },
  {
   "cell_type": "markdown",
   "metadata": {},
   "source": [
    "## Libraries, parameters"
   ]
  },
  {
   "cell_type": "code",
   "execution_count": 2,
   "metadata": {},
   "outputs": [
    {
     "name": "stderr",
     "output_type": "stream",
     "text": [
      "2025-05-18 13:35:10.181537: I external/local_xla/xla/tsl/cuda/cudart_stub.cc:32] Could not find cuda drivers on your machine, GPU will not be used.\n",
      "2025-05-18 13:35:11.703414: I external/local_xla/xla/tsl/cuda/cudart_stub.cc:32] Could not find cuda drivers on your machine, GPU will not be used.\n",
      "2025-05-18 13:35:12.466615: E external/local_xla/xla/stream_executor/cuda/cuda_fft.cc:467] Unable to register cuFFT factory: Attempting to register factory for plugin cuFFT when one has already been registered\n",
      "WARNING: All log messages before absl::InitializeLog() is called are written to STDERR\n",
      "E0000 00:00:1747568113.067595    6588 cuda_dnn.cc:8579] Unable to register cuDNN factory: Attempting to register factory for plugin cuDNN when one has already been registered\n",
      "E0000 00:00:1747568113.260727    6588 cuda_blas.cc:1407] Unable to register cuBLAS factory: Attempting to register factory for plugin cuBLAS when one has already been registered\n",
      "W0000 00:00:1747568115.669934    6588 computation_placer.cc:177] computation placer already registered. Please check linkage and avoid linking the same target more than once.\n",
      "W0000 00:00:1747568115.670028    6588 computation_placer.cc:177] computation placer already registered. Please check linkage and avoid linking the same target more than once.\n",
      "W0000 00:00:1747568115.670034    6588 computation_placer.cc:177] computation placer already registered. Please check linkage and avoid linking the same target more than once.\n",
      "W0000 00:00:1747568115.670039    6588 computation_placer.cc:177] computation placer already registered. Please check linkage and avoid linking the same target more than once.\n",
      "2025-05-18 13:35:15.989423: I tensorflow/core/platform/cpu_feature_guard.cc:210] This TensorFlow binary is optimized to use available CPU instructions in performance-critical operations.\n",
      "To enable the following instructions: AVX2 FMA, in other operations, rebuild TensorFlow with the appropriate compiler flags.\n"
     ]
    }
   ],
   "source": [
    "from pathlib import Path\n",
    "import py360convert\n",
    "import tensorflow as tf\n",
    "import numpy as np\n",
    "import pandas as pd\n",
    "import matplotlib.pyplot as plt\n",
    "from sklearn.model_selection import train_test_split\n",
    "from sklearn.metrics import classification_report\n",
    "from tensorflow.keras import layers\n",
    "from tensorflow.keras.callbacks import ModelCheckpoint, ReduceLROnPlateau\n",
    "from PIL import Image\n",
    "import plotly.graph_objects as go\n",
    "import plotly.express as px\n",
    "from collections import Counter\n",
    "from sklearn.utils.class_weight import compute_class_weight\n",
    "import cv2"
   ]
  },
  {
   "cell_type": "code",
   "execution_count": 4,
   "metadata": {},
   "outputs": [],
   "source": [
    "# Cropping parameters\n",
    "CROP_WIDTH = 13271\n",
    "CROP_HEIGHT = 6619\n",
    "CROP_X = 0\n",
    "CROP_Y = 16\n",
    "\n",
    "ROOT_DIR = Path(\"images\")\n",
    "CROPPED_DIR = Path(\"cropped_images\")\n",
    "SLICED_DIR = Path(\"sliced_panoramas_split\")\n",
    "GRAD_CAM_DIR = Path(\"grad_cam\")\n",
    "\n",
    "# Image processing parameters\n",
    "OUTPUT_SIZE = (512, 1024)  # High-res directional slices\n",
    "ANGLES = [0, 90, 180, 270]\n",
    "TRAIN_IMG_SIZE = (224, 224)  # For resizing during training\n",
    "\n",
    "# Model parameters\n",
    "BATCH_SIZE = 8\n",
    "SEED = 42\n",
    "EPOCHS = 20"
   ]
  },
  {
   "cell_type": "code",
   "execution_count": null,
   "metadata": {},
   "outputs": [],
   "source": [
    "image_extensions = ('.jpg', '.jpeg', '.png')\n",
    "country_counts = []\n",
    "\n",
    "for country_dir in sorted(ROOT_DIR.iterdir()):\n",
    "    if country_dir.is_dir():\n",
    "        # Only count files with image extensions, ignore hidden/system files\n",
    "        count = sum(\n",
    "            1 for img in country_dir.iterdir()\n",
    "            if img.suffix.lower() in image_extensions and not img.name.startswith('.')\n",
    "        )\n",
    "        country_counts.append({\"Country\": country_dir.name, \"Image Count\": count})\n",
    "\n",
    "country_df = pd.DataFrame(country_counts).sort_values(by=\"Image Count\", ascending=False)\n",
    "\n",
    "fig = px.bar(\n",
    "    country_df,\n",
    "    x=\"Country\",\n",
    "    y=\"Image Count\",\n",
    "    color=\"Country\",\n",
    "    color_discrete_sequence=px.colors.qualitative.Pastel2\n",
    ")\n",
    "\n",
    "fig.update_layout(\n",
    "    xaxis_title=\"Country\",\n",
    "    yaxis_title=\"Number of Images\",\n",
    "    showlegend=False,\n",
    "    template=\"plotly_white\"\n",
    ")\n",
    "\n",
    "fig.show()\n",
    "\n"
   ]
  },
  {
   "cell_type": "markdown",
   "metadata": {},
   "source": [
    "## Image preprocessing and train test split"
   ]
  },
  {
   "cell_type": "code",
   "execution_count": null,
   "metadata": {},
   "outputs": [],
   "source": [
    "for img_path in ROOT_DIR.rglob(\"*.jpg\"):\n",
    "    with Image.open(img_path) as img:\n",
    "        # Ensure the image is large enough before cropping\n",
    "        if img.width >= CROP_WIDTH and img.height >= (CROP_Y + CROP_HEIGHT):\n",
    "            cropped_img = img.crop((CROP_X, CROP_Y, CROP_X + CROP_WIDTH, CROP_Y + CROP_HEIGHT))\n",
    "\n",
    "            # Get relative path inside \"images/\"\n",
    "            relative_path = img_path.relative_to(ROOT_DIR)  \n",
    "            save_path = CROPPED_DIR / relative_path\n",
    "            save_path.parent.mkdir(parents=True, exist_ok=True)\n",
    "            \n",
    "            cropped_img.save(save_path)\n",
    "            print(f\"Cropped and saved: {save_path}\")\n",
    "        else:\n",
    "            print(f\"Skipping {img_path} (too small for cropping)\")"
   ]
  },
  {
   "cell_type": "code",
   "execution_count": null,
   "metadata": {},
   "outputs": [],
   "source": [
    "all_panos = list(CROPPED_DIR.rglob(\"*.jpg\"))\n",
    "\n",
    "labels = [pano.parent.name for pano in all_panos]\n",
    "train_panos, test_panos = train_test_split(\n",
    "    all_panos, test_size=0.2, stratify=labels, random_state=SEED\n",
    ")\n",
    "\n",
    "train_labels = [pano.parent.name for pano in train_panos]\n",
    "train_panos, validation_panos = train_test_split(\n",
    "    train_panos, test_size=0.25, stratify=train_labels, random_state=SEED\n",
    ")\n",
    "\n",
    "print(f\"Train panoramas: {len(train_panos)}\")\n",
    "print(f\"Validation panoramas:  {len(validation_panos)}\")\n",
    "print(f\"Test panoramas:  {len(test_panos)}\")"
   ]
  },
  {
   "cell_type": "code",
   "execution_count": null,
   "metadata": {},
   "outputs": [],
   "source": [
    "def slice_and_save(pano_paths, split: str):\n",
    "    for pano_path in pano_paths:\n",
    "        try:\n",
    "            img = tf.keras.utils.load_img(pano_path)\n",
    "            arr = tf.keras.utils.img_to_array(img)\n",
    "\n",
    "            country = pano_path.parent.name\n",
    "            base_name = pano_path.stem\n",
    "\n",
    "            output_dir = SLICED_DIR / split / country\n",
    "            output_dir.mkdir(parents=True, exist_ok=True)\n",
    "\n",
    "            for angle in ANGLES:\n",
    "                output_path = output_dir / f\"{base_name}_a{angle}.png\"\n",
    "\n",
    "                if not output_path.exists():\n",
    "                    view = py360convert.e2p(\n",
    "                        arr, fov_deg=90, u_deg=angle, v_deg=0, out_hw=OUTPUT_SIZE\n",
    "                    )\n",
    "                    tf.keras.utils.save_img(output_path, view)\n",
    "\n",
    "        except Exception as e:\n",
    "            print(f\"Skipping {pano_path.name} due to error: {e}\")\n",
    "\n",
    "# Slice and save the panoramas\n",
    "slice_and_save(train_panos, \"train\")\n",
    "slice_and_save(validation_panos, \"validation\")\n",
    "slice_and_save(test_panos, \"test\")"
   ]
  },
  {
   "cell_type": "code",
   "execution_count": 7,
   "metadata": {},
   "outputs": [
    {
     "name": "stdout",
     "output_type": "stream",
     "text": [
      "Found 6336 files belonging to 12 classes.\n",
      "Found 2112 files belonging to 12 classes.\n",
      "Classes: ['argentina', 'austria', 'canada', 'chile', 'france', 'iceland', 'italy', 'japan', 'new_zealand', 'norway', 'peru', 'switzerland']\n",
      "Train batches: 792\n",
      "Val batches: 264\n"
     ]
    }
   ],
   "source": [
    "train_ds = tf.keras.utils.image_dataset_from_directory(\n",
    "    SLICED_DIR / \"train\",\n",
    "    image_size=TRAIN_IMG_SIZE,\n",
    "    batch_size=BATCH_SIZE,\n",
    "    seed=SEED,\n",
    "    shuffle=True\n",
    ")\n",
    "\n",
    "val_ds = tf.keras.utils.image_dataset_from_directory(\n",
    "    SLICED_DIR / \"validation\",\n",
    "    image_size=TRAIN_IMG_SIZE,\n",
    "    batch_size=BATCH_SIZE,\n",
    "    seed=SEED,\n",
    "    shuffle=False\n",
    ")\n",
    "class_names = train_ds.class_names\n",
    "num_classes = len(class_names)\n",
    "\n",
    "train_ds = train_ds.shuffle(1000, seed=SEED).prefetch(buffer_size=tf.data.AUTOTUNE)\n",
    "val_ds = val_ds.prefetch(buffer_size=tf.data.AUTOTUNE)\n",
    "\n",
    "\n",
    "print(\"Classes:\", class_names)\n",
    "print(\"Train batches:\", len(train_ds))\n",
    "print(\"Val batches:\", len(val_ds))"
   ]
  },
  {
   "cell_type": "markdown",
   "metadata": {},
   "source": [
    "## Class imbalance"
   ]
  },
  {
   "cell_type": "code",
   "execution_count": 12,
   "metadata": {},
   "outputs": [
    {
     "name": "stderr",
     "output_type": "stream",
     "text": [
      "2025-05-18 13:39:28.447682: I tensorflow/core/framework/local_rendezvous.cc:407] Local rendezvous is aborting with status: OUT_OF_RANGE: End of sequence\n"
     ]
    },
    {
     "data": {
      "text/html": [
       "<div>\n",
       "<style scoped>\n",
       "    .dataframe tbody tr th:only-of-type {\n",
       "        vertical-align: middle;\n",
       "    }\n",
       "\n",
       "    .dataframe tbody tr th {\n",
       "        vertical-align: top;\n",
       "    }\n",
       "\n",
       "    .dataframe thead th {\n",
       "        text-align: right;\n",
       "    }\n",
       "</style>\n",
       "<table border=\"1\" class=\"dataframe\">\n",
       "  <thead>\n",
       "    <tr style=\"text-align: right;\">\n",
       "      <th></th>\n",
       "      <th>Class</th>\n",
       "      <th>Count</th>\n",
       "    </tr>\n",
       "  </thead>\n",
       "  <tbody>\n",
       "    <tr>\n",
       "      <th>0</th>\n",
       "      <td>switzerland</td>\n",
       "      <td>732</td>\n",
       "    </tr>\n",
       "    <tr>\n",
       "      <th>1</th>\n",
       "      <td>austria</td>\n",
       "      <td>644</td>\n",
       "    </tr>\n",
       "    <tr>\n",
       "      <th>2</th>\n",
       "      <td>japan</td>\n",
       "      <td>600</td>\n",
       "    </tr>\n",
       "    <tr>\n",
       "      <th>3</th>\n",
       "      <td>italy</td>\n",
       "      <td>600</td>\n",
       "    </tr>\n",
       "    <tr>\n",
       "      <th>4</th>\n",
       "      <td>canada</td>\n",
       "      <td>596</td>\n",
       "    </tr>\n",
       "    <tr>\n",
       "      <th>5</th>\n",
       "      <td>chile</td>\n",
       "      <td>592</td>\n",
       "    </tr>\n",
       "    <tr>\n",
       "      <th>6</th>\n",
       "      <td>norway</td>\n",
       "      <td>552</td>\n",
       "    </tr>\n",
       "    <tr>\n",
       "      <th>7</th>\n",
       "      <td>france</td>\n",
       "      <td>520</td>\n",
       "    </tr>\n",
       "    <tr>\n",
       "      <th>8</th>\n",
       "      <td>new_zealand</td>\n",
       "      <td>480</td>\n",
       "    </tr>\n",
       "    <tr>\n",
       "      <th>9</th>\n",
       "      <td>peru</td>\n",
       "      <td>380</td>\n",
       "    </tr>\n",
       "    <tr>\n",
       "      <th>10</th>\n",
       "      <td>argentina</td>\n",
       "      <td>356</td>\n",
       "    </tr>\n",
       "    <tr>\n",
       "      <th>11</th>\n",
       "      <td>iceland</td>\n",
       "      <td>284</td>\n",
       "    </tr>\n",
       "  </tbody>\n",
       "</table>\n",
       "</div>"
      ],
      "text/plain": [
       "          Class  Count\n",
       "0   switzerland    732\n",
       "1       austria    644\n",
       "2         japan    600\n",
       "3         italy    600\n",
       "4        canada    596\n",
       "5         chile    592\n",
       "6        norway    552\n",
       "7        france    520\n",
       "8   new_zealand    480\n",
       "9          peru    380\n",
       "10    argentina    356\n",
       "11      iceland    284"
      ]
     },
     "execution_count": 12,
     "metadata": {},
     "output_type": "execute_result"
    }
   ],
   "source": [
    "# Extract and count labels\n",
    "true_labels = tf.concat([y for _, y in train_ds], axis=0).numpy()\n",
    "label_counts = Counter(true_labels)\n",
    "\n",
    "# Create sorted DataFrame directly\n",
    "dist_df = pd.DataFrame([\n",
    "    {'Class': class_names[i], 'Count': count}\n",
    "    for i, count in label_counts.items()\n",
    "]).sort_values(by='Count', ascending=False).reset_index(drop=True)\n",
    "\n",
    "dist_df\n"
   ]
  },
  {
   "cell_type": "code",
   "execution_count": null,
   "metadata": {},
   "outputs": [
    {
     "data": {
      "application/vnd.plotly.v1+json": {
       "config": {
        "plotlyServerURL": "https://plot.ly"
       },
       "data": [
        {
         "customdata": {
          "bdata": "BQAKCAQJAwIHBgEL",
          "dtype": "i1",
          "shape": "12, 1"
         },
         "hovertemplate": "Class Name=%{x}<br>Weight=%{marker.color}<br>Class Index=%{customdata[0]}<extra></extra>",
         "legendgroup": "",
         "marker": {
          "color": {
           "bdata": "47dLPRm//T983ete97r3P7VjBcJIO/Y/mpmZmZmZ8T/wAz/wAz/wP+pNb3rTm+4/pshn3WCK7D8oBcmfV1nsPylcj8L1KOw/KVyPwvUo7D82Hs0fbDzqPxGso837FOc/",
           "dtype": "f8"
          },
          "coloraxis": "coloraxis",
          "pattern": {
           "shape": ""
          }
         },
         "name": "",
         "orientation": "v",
         "showlegend": false,
         "text": {
          "bdata": "47dLPRm//T983ete97r3P7VjBcJIO/Y/mpmZmZmZ8T/wAz/wAz/wP+pNb3rTm+4/pshn3WCK7D8oBcmfV1nsPylcj8L1KOw/KVyPwvUo7D82Hs0fbDzqPxGso837FOc/",
          "dtype": "f8"
         },
         "textposition": "outside",
         "texttemplate": "%{text:.3f}",
         "type": "bar",
         "x": [
          "iceland",
          "argentina",
          "peru",
          "new_zealand",
          "france",
          "norway",
          "chile",
          "canada",
          "japan",
          "italy",
          "austria",
          "switzerland"
         ],
         "xaxis": "x",
         "y": {
          "bdata": "47dLPRm//T983ete97r3P7VjBcJIO/Y/mpmZmZmZ8T/wAz/wAz/wP+pNb3rTm+4/pshn3WCK7D8oBcmfV1nsPylcj8L1KOw/KVyPwvUo7D82Hs0fbDzqPxGso837FOc/",
          "dtype": "f8"
         },
         "yaxis": "y"
        }
       ],
       "layout": {
        "barmode": "relative",
        "coloraxis": {
         "colorbar": {
          "title": {
           "text": "Weight"
          }
         },
         "colorscale": [
          [
           0,
           "rgb(228, 241, 225)"
          ],
          [
           0.16666666666666666,
           "rgb(180, 217, 204)"
          ],
          [
           0.3333333333333333,
           "rgb(137, 192, 182)"
          ],
          [
           0.5,
           "rgb(99, 166, 160)"
          ],
          [
           0.6666666666666666,
           "rgb(68, 140, 138)"
          ],
          [
           0.8333333333333334,
           "rgb(40, 114, 116)"
          ],
          [
           1,
           "rgb(13, 88, 95)"
          ]
         ]
        },
        "legend": {
         "tracegroupgap": 0
        },
        "margin": {
         "t": 60
        },
        "template": {
         "data": {
          "bar": [
           {
            "error_x": {
             "color": "#2a3f5f"
            },
            "error_y": {
             "color": "#2a3f5f"
            },
            "marker": {
             "line": {
              "color": "#E5ECF6",
              "width": 0.5
             },
             "pattern": {
              "fillmode": "overlay",
              "size": 10,
              "solidity": 0.2
             }
            },
            "type": "bar"
           }
          ],
          "barpolar": [
           {
            "marker": {
             "line": {
              "color": "#E5ECF6",
              "width": 0.5
             },
             "pattern": {
              "fillmode": "overlay",
              "size": 10,
              "solidity": 0.2
             }
            },
            "type": "barpolar"
           }
          ],
          "carpet": [
           {
            "aaxis": {
             "endlinecolor": "#2a3f5f",
             "gridcolor": "white",
             "linecolor": "white",
             "minorgridcolor": "white",
             "startlinecolor": "#2a3f5f"
            },
            "baxis": {
             "endlinecolor": "#2a3f5f",
             "gridcolor": "white",
             "linecolor": "white",
             "minorgridcolor": "white",
             "startlinecolor": "#2a3f5f"
            },
            "type": "carpet"
           }
          ],
          "choropleth": [
           {
            "colorbar": {
             "outlinewidth": 0,
             "ticks": ""
            },
            "type": "choropleth"
           }
          ],
          "contour": [
           {
            "colorbar": {
             "outlinewidth": 0,
             "ticks": ""
            },
            "colorscale": [
             [
              0,
              "#0d0887"
             ],
             [
              0.1111111111111111,
              "#46039f"
             ],
             [
              0.2222222222222222,
              "#7201a8"
             ],
             [
              0.3333333333333333,
              "#9c179e"
             ],
             [
              0.4444444444444444,
              "#bd3786"
             ],
             [
              0.5555555555555556,
              "#d8576b"
             ],
             [
              0.6666666666666666,
              "#ed7953"
             ],
             [
              0.7777777777777778,
              "#fb9f3a"
             ],
             [
              0.8888888888888888,
              "#fdca26"
             ],
             [
              1,
              "#f0f921"
             ]
            ],
            "type": "contour"
           }
          ],
          "contourcarpet": [
           {
            "colorbar": {
             "outlinewidth": 0,
             "ticks": ""
            },
            "type": "contourcarpet"
           }
          ],
          "heatmap": [
           {
            "colorbar": {
             "outlinewidth": 0,
             "ticks": ""
            },
            "colorscale": [
             [
              0,
              "#0d0887"
             ],
             [
              0.1111111111111111,
              "#46039f"
             ],
             [
              0.2222222222222222,
              "#7201a8"
             ],
             [
              0.3333333333333333,
              "#9c179e"
             ],
             [
              0.4444444444444444,
              "#bd3786"
             ],
             [
              0.5555555555555556,
              "#d8576b"
             ],
             [
              0.6666666666666666,
              "#ed7953"
             ],
             [
              0.7777777777777778,
              "#fb9f3a"
             ],
             [
              0.8888888888888888,
              "#fdca26"
             ],
             [
              1,
              "#f0f921"
             ]
            ],
            "type": "heatmap"
           }
          ],
          "histogram": [
           {
            "marker": {
             "pattern": {
              "fillmode": "overlay",
              "size": 10,
              "solidity": 0.2
             }
            },
            "type": "histogram"
           }
          ],
          "histogram2d": [
           {
            "colorbar": {
             "outlinewidth": 0,
             "ticks": ""
            },
            "colorscale": [
             [
              0,
              "#0d0887"
             ],
             [
              0.1111111111111111,
              "#46039f"
             ],
             [
              0.2222222222222222,
              "#7201a8"
             ],
             [
              0.3333333333333333,
              "#9c179e"
             ],
             [
              0.4444444444444444,
              "#bd3786"
             ],
             [
              0.5555555555555556,
              "#d8576b"
             ],
             [
              0.6666666666666666,
              "#ed7953"
             ],
             [
              0.7777777777777778,
              "#fb9f3a"
             ],
             [
              0.8888888888888888,
              "#fdca26"
             ],
             [
              1,
              "#f0f921"
             ]
            ],
            "type": "histogram2d"
           }
          ],
          "histogram2dcontour": [
           {
            "colorbar": {
             "outlinewidth": 0,
             "ticks": ""
            },
            "colorscale": [
             [
              0,
              "#0d0887"
             ],
             [
              0.1111111111111111,
              "#46039f"
             ],
             [
              0.2222222222222222,
              "#7201a8"
             ],
             [
              0.3333333333333333,
              "#9c179e"
             ],
             [
              0.4444444444444444,
              "#bd3786"
             ],
             [
              0.5555555555555556,
              "#d8576b"
             ],
             [
              0.6666666666666666,
              "#ed7953"
             ],
             [
              0.7777777777777778,
              "#fb9f3a"
             ],
             [
              0.8888888888888888,
              "#fdca26"
             ],
             [
              1,
              "#f0f921"
             ]
            ],
            "type": "histogram2dcontour"
           }
          ],
          "mesh3d": [
           {
            "colorbar": {
             "outlinewidth": 0,
             "ticks": ""
            },
            "type": "mesh3d"
           }
          ],
          "parcoords": [
           {
            "line": {
             "colorbar": {
              "outlinewidth": 0,
              "ticks": ""
             }
            },
            "type": "parcoords"
           }
          ],
          "pie": [
           {
            "automargin": true,
            "type": "pie"
           }
          ],
          "scatter": [
           {
            "fillpattern": {
             "fillmode": "overlay",
             "size": 10,
             "solidity": 0.2
            },
            "type": "scatter"
           }
          ],
          "scatter3d": [
           {
            "line": {
             "colorbar": {
              "outlinewidth": 0,
              "ticks": ""
             }
            },
            "marker": {
             "colorbar": {
              "outlinewidth": 0,
              "ticks": ""
             }
            },
            "type": "scatter3d"
           }
          ],
          "scattercarpet": [
           {
            "marker": {
             "colorbar": {
              "outlinewidth": 0,
              "ticks": ""
             }
            },
            "type": "scattercarpet"
           }
          ],
          "scattergeo": [
           {
            "marker": {
             "colorbar": {
              "outlinewidth": 0,
              "ticks": ""
             }
            },
            "type": "scattergeo"
           }
          ],
          "scattergl": [
           {
            "marker": {
             "colorbar": {
              "outlinewidth": 0,
              "ticks": ""
             }
            },
            "type": "scattergl"
           }
          ],
          "scattermap": [
           {
            "marker": {
             "colorbar": {
              "outlinewidth": 0,
              "ticks": ""
             }
            },
            "type": "scattermap"
           }
          ],
          "scattermapbox": [
           {
            "marker": {
             "colorbar": {
              "outlinewidth": 0,
              "ticks": ""
             }
            },
            "type": "scattermapbox"
           }
          ],
          "scatterpolar": [
           {
            "marker": {
             "colorbar": {
              "outlinewidth": 0,
              "ticks": ""
             }
            },
            "type": "scatterpolar"
           }
          ],
          "scatterpolargl": [
           {
            "marker": {
             "colorbar": {
              "outlinewidth": 0,
              "ticks": ""
             }
            },
            "type": "scatterpolargl"
           }
          ],
          "scatterternary": [
           {
            "marker": {
             "colorbar": {
              "outlinewidth": 0,
              "ticks": ""
             }
            },
            "type": "scatterternary"
           }
          ],
          "surface": [
           {
            "colorbar": {
             "outlinewidth": 0,
             "ticks": ""
            },
            "colorscale": [
             [
              0,
              "#0d0887"
             ],
             [
              0.1111111111111111,
              "#46039f"
             ],
             [
              0.2222222222222222,
              "#7201a8"
             ],
             [
              0.3333333333333333,
              "#9c179e"
             ],
             [
              0.4444444444444444,
              "#bd3786"
             ],
             [
              0.5555555555555556,
              "#d8576b"
             ],
             [
              0.6666666666666666,
              "#ed7953"
             ],
             [
              0.7777777777777778,
              "#fb9f3a"
             ],
             [
              0.8888888888888888,
              "#fdca26"
             ],
             [
              1,
              "#f0f921"
             ]
            ],
            "type": "surface"
           }
          ],
          "table": [
           {
            "cells": {
             "fill": {
              "color": "#EBF0F8"
             },
             "line": {
              "color": "white"
             }
            },
            "header": {
             "fill": {
              "color": "#C8D4E3"
             },
             "line": {
              "color": "white"
             }
            },
            "type": "table"
           }
          ]
         },
         "layout": {
          "annotationdefaults": {
           "arrowcolor": "#2a3f5f",
           "arrowhead": 0,
           "arrowwidth": 1
          },
          "autotypenumbers": "strict",
          "coloraxis": {
           "colorbar": {
            "outlinewidth": 0,
            "ticks": ""
           }
          },
          "colorscale": {
           "diverging": [
            [
             0,
             "#8e0152"
            ],
            [
             0.1,
             "#c51b7d"
            ],
            [
             0.2,
             "#de77ae"
            ],
            [
             0.3,
             "#f1b6da"
            ],
            [
             0.4,
             "#fde0ef"
            ],
            [
             0.5,
             "#f7f7f7"
            ],
            [
             0.6,
             "#e6f5d0"
            ],
            [
             0.7,
             "#b8e186"
            ],
            [
             0.8,
             "#7fbc41"
            ],
            [
             0.9,
             "#4d9221"
            ],
            [
             1,
             "#276419"
            ]
           ],
           "sequential": [
            [
             0,
             "#0d0887"
            ],
            [
             0.1111111111111111,
             "#46039f"
            ],
            [
             0.2222222222222222,
             "#7201a8"
            ],
            [
             0.3333333333333333,
             "#9c179e"
            ],
            [
             0.4444444444444444,
             "#bd3786"
            ],
            [
             0.5555555555555556,
             "#d8576b"
            ],
            [
             0.6666666666666666,
             "#ed7953"
            ],
            [
             0.7777777777777778,
             "#fb9f3a"
            ],
            [
             0.8888888888888888,
             "#fdca26"
            ],
            [
             1,
             "#f0f921"
            ]
           ],
           "sequentialminus": [
            [
             0,
             "#0d0887"
            ],
            [
             0.1111111111111111,
             "#46039f"
            ],
            [
             0.2222222222222222,
             "#7201a8"
            ],
            [
             0.3333333333333333,
             "#9c179e"
            ],
            [
             0.4444444444444444,
             "#bd3786"
            ],
            [
             0.5555555555555556,
             "#d8576b"
            ],
            [
             0.6666666666666666,
             "#ed7953"
            ],
            [
             0.7777777777777778,
             "#fb9f3a"
            ],
            [
             0.8888888888888888,
             "#fdca26"
            ],
            [
             1,
             "#f0f921"
            ]
           ]
          },
          "colorway": [
           "#636efa",
           "#EF553B",
           "#00cc96",
           "#ab63fa",
           "#FFA15A",
           "#19d3f3",
           "#FF6692",
           "#B6E880",
           "#FF97FF",
           "#FECB52"
          ],
          "font": {
           "color": "#2a3f5f"
          },
          "geo": {
           "bgcolor": "white",
           "lakecolor": "white",
           "landcolor": "#E5ECF6",
           "showlakes": true,
           "showland": true,
           "subunitcolor": "white"
          },
          "hoverlabel": {
           "align": "left"
          },
          "hovermode": "closest",
          "mapbox": {
           "style": "light"
          },
          "paper_bgcolor": "white",
          "plot_bgcolor": "#E5ECF6",
          "polar": {
           "angularaxis": {
            "gridcolor": "white",
            "linecolor": "white",
            "ticks": ""
           },
           "bgcolor": "#E5ECF6",
           "radialaxis": {
            "gridcolor": "white",
            "linecolor": "white",
            "ticks": ""
           }
          },
          "scene": {
           "xaxis": {
            "backgroundcolor": "#E5ECF6",
            "gridcolor": "white",
            "gridwidth": 2,
            "linecolor": "white",
            "showbackground": true,
            "ticks": "",
            "zerolinecolor": "white"
           },
           "yaxis": {
            "backgroundcolor": "#E5ECF6",
            "gridcolor": "white",
            "gridwidth": 2,
            "linecolor": "white",
            "showbackground": true,
            "ticks": "",
            "zerolinecolor": "white"
           },
           "zaxis": {
            "backgroundcolor": "#E5ECF6",
            "gridcolor": "white",
            "gridwidth": 2,
            "linecolor": "white",
            "showbackground": true,
            "ticks": "",
            "zerolinecolor": "white"
           }
          },
          "shapedefaults": {
           "line": {
            "color": "#2a3f5f"
           }
          },
          "ternary": {
           "aaxis": {
            "gridcolor": "white",
            "linecolor": "white",
            "ticks": ""
           },
           "baxis": {
            "gridcolor": "white",
            "linecolor": "white",
            "ticks": ""
           },
           "bgcolor": "#E5ECF6",
           "caxis": {
            "gridcolor": "white",
            "linecolor": "white",
            "ticks": ""
           }
          },
          "title": {
           "x": 0.05
          },
          "xaxis": {
           "automargin": true,
           "gridcolor": "white",
           "linecolor": "white",
           "ticks": "",
           "title": {
            "standoff": 15
           },
           "zerolinecolor": "white",
           "zerolinewidth": 2
          },
          "yaxis": {
           "automargin": true,
           "gridcolor": "white",
           "linecolor": "white",
           "ticks": "",
           "title": {
            "standoff": 15
           },
           "zerolinecolor": "white",
           "zerolinewidth": 2
          }
         }
        },
        "xaxis": {
         "anchor": "y",
         "domain": [
          0,
          1
         ],
         "title": {
          "text": "Country"
         }
        },
        "yaxis": {
         "anchor": "x",
         "domain": [
          0,
          1
         ],
         "title": {
          "text": "Class Weight"
         }
        }
       }
      }
     },
     "metadata": {},
     "output_type": "display_data"
    },
    {
     "data": {
      "text/html": [
       "<div>\n",
       "<style scoped>\n",
       "    .dataframe tbody tr th:only-of-type {\n",
       "        vertical-align: middle;\n",
       "    }\n",
       "\n",
       "    .dataframe tbody tr th {\n",
       "        vertical-align: top;\n",
       "    }\n",
       "\n",
       "    .dataframe thead th {\n",
       "        text-align: right;\n",
       "    }\n",
       "</style>\n",
       "<table border=\"1\" class=\"dataframe\">\n",
       "  <thead>\n",
       "    <tr style=\"text-align: right;\">\n",
       "      <th></th>\n",
       "      <th>Class Index</th>\n",
       "      <th>Class Name</th>\n",
       "      <th>Weight</th>\n",
       "    </tr>\n",
       "  </thead>\n",
       "  <tbody>\n",
       "    <tr>\n",
       "      <th>0</th>\n",
       "      <td>5</td>\n",
       "      <td>iceland</td>\n",
       "      <td>1.859155</td>\n",
       "    </tr>\n",
       "    <tr>\n",
       "      <th>1</th>\n",
       "      <td>0</td>\n",
       "      <td>argentina</td>\n",
       "      <td>1.483146</td>\n",
       "    </tr>\n",
       "    <tr>\n",
       "      <th>2</th>\n",
       "      <td>10</td>\n",
       "      <td>peru</td>\n",
       "      <td>1.389474</td>\n",
       "    </tr>\n",
       "    <tr>\n",
       "      <th>3</th>\n",
       "      <td>8</td>\n",
       "      <td>new_zealand</td>\n",
       "      <td>1.100000</td>\n",
       "    </tr>\n",
       "    <tr>\n",
       "      <th>4</th>\n",
       "      <td>4</td>\n",
       "      <td>france</td>\n",
       "      <td>1.015385</td>\n",
       "    </tr>\n",
       "    <tr>\n",
       "      <th>5</th>\n",
       "      <td>9</td>\n",
       "      <td>norway</td>\n",
       "      <td>0.956522</td>\n",
       "    </tr>\n",
       "    <tr>\n",
       "      <th>6</th>\n",
       "      <td>3</td>\n",
       "      <td>chile</td>\n",
       "      <td>0.891892</td>\n",
       "    </tr>\n",
       "    <tr>\n",
       "      <th>7</th>\n",
       "      <td>2</td>\n",
       "      <td>canada</td>\n",
       "      <td>0.885906</td>\n",
       "    </tr>\n",
       "    <tr>\n",
       "      <th>8</th>\n",
       "      <td>7</td>\n",
       "      <td>japan</td>\n",
       "      <td>0.880000</td>\n",
       "    </tr>\n",
       "    <tr>\n",
       "      <th>9</th>\n",
       "      <td>6</td>\n",
       "      <td>italy</td>\n",
       "      <td>0.880000</td>\n",
       "    </tr>\n",
       "    <tr>\n",
       "      <th>10</th>\n",
       "      <td>1</td>\n",
       "      <td>austria</td>\n",
       "      <td>0.819876</td>\n",
       "    </tr>\n",
       "    <tr>\n",
       "      <th>11</th>\n",
       "      <td>11</td>\n",
       "      <td>switzerland</td>\n",
       "      <td>0.721311</td>\n",
       "    </tr>\n",
       "  </tbody>\n",
       "</table>\n",
       "</div>"
      ],
      "text/plain": [
       "    Class Index   Class Name    Weight\n",
       "0             5      iceland  1.859155\n",
       "1             0    argentina  1.483146\n",
       "2            10         peru  1.389474\n",
       "3             8  new_zealand  1.100000\n",
       "4             4       france  1.015385\n",
       "5             9       norway  0.956522\n",
       "6             3        chile  0.891892\n",
       "7             2       canada  0.885906\n",
       "8             7        japan  0.880000\n",
       "9             6        italy  0.880000\n",
       "10            1      austria  0.819876\n",
       "11           11  switzerland  0.721311"
      ]
     },
     "execution_count": 13,
     "metadata": {},
     "output_type": "execute_result"
    }
   ],
   "source": [
    "%matplotlib inline\n",
    "# Get class weights\n",
    "class_weights = compute_class_weight(\n",
    "    class_weight='balanced',\n",
    "    classes=np.unique(true_labels),\n",
    "    y=true_labels\n",
    ")\n",
    "\n",
    "# Create dictionary: {class_index: weight}\n",
    "class_weight_dict = {i: w for i, w in enumerate(class_weights)}\n",
    "\n",
    "# Visualize class weights per class\n",
    "weights_df = pd.DataFrame({\n",
    "    'Class Index': list(class_weight_dict.keys()),\n",
    "    'Class Name': [class_names[i] for i in class_weight_dict.keys()],\n",
    "    'Weight': list(class_weight_dict.values())\n",
    "}).sort_values(by='Weight', ascending=False).reset_index(drop=True)\n",
    "\n",
    "fig = px.bar(\n",
    "    weights_df,\n",
    "    x=\"Class Name\",\n",
    "    y=\"Weight\",\n",
    "    color=\"Weight\",\n",
    "    text=\"Weight\",\n",
    "    hover_data=[\"Class Index\"],\n",
    "    color_continuous_scale=\"Mint\"\n",
    ")\n",
    "\n",
    "fig.update_traces(texttemplate='%{text:.3f}', textposition='outside')\n",
    "fig.update_layout(\n",
    "    xaxis_title=\"Country\",\n",
    "    yaxis_title=\"Class Weight\"\n",
    ")\n",
    "\n",
    "fig.show()\n",
    "\n",
    "\n",
    "weights_df\n"
   ]
  },
  {
   "cell_type": "markdown",
   "metadata": {},
   "source": [
    "## Model training"
   ]
  },
  {
   "cell_type": "code",
   "execution_count": 27,
   "metadata": {},
   "outputs": [],
   "source": [
    "\n",
    "base_model = tf.keras.applications.EfficientNetB0(\n",
    "    include_top=False,\n",
    "    weights='imagenet',\n",
    "    input_shape=(224, 224, 3)\n",
    ")\n",
    "base_model.trainable = False  # Freeze initially\n",
    "\n",
    "data_augmentation = tf.keras.Sequential([\n",
    "    layers.RandomFlip(\"horizontal\"),\n",
    "    layers.RandomRotation(0.1),\n",
    "    layers.RandomZoom(0.1),\n",
    "    layers.RandomContrast(0.1),\n",
    "    layers.RandomBrightness(0.1)\n",
    "])\n",
    "\n",
    "model = tf.keras.Sequential([\n",
    "    data_augmentation,\n",
    "    base_model,\n",
    "    layers.GlobalAveragePooling2D(),\n",
    "    layers.Dense(256, activation='relu'),\n",
    "    layers.Dropout(0.5),\n",
    "    layers.Dense(num_classes, activation='softmax')\n",
    "])\n",
    "\n",
    "metrics = ['accuracy']\n",
    "model.compile(\n",
    "    optimizer=tf.keras.optimizers.Adam(learning_rate=1e-3),\n",
    "    loss='sparse_categorical_crossentropy',\n",
    "    metrics=metrics\n",
    ")"
   ]
  },
  {
   "cell_type": "code",
   "execution_count": null,
   "metadata": {},
   "outputs": [
    {
     "name": "stdout",
     "output_type": "stream",
     "text": [
      "Epoch 1/20\n",
      "\u001b[1m792/792\u001b[0m \u001b[32m━━━━━━━━━━━━━━━━━━━━\u001b[0m\u001b[37m\u001b[0m \u001b[1m0s\u001b[0m 132ms/step - accuracy: 0.3552 - loss: 1.8035\n",
      "Epoch 1: val_accuracy improved from -inf to 0.53693, saving model to efficientnetb0_model.keras\n",
      "\u001b[1m792/792\u001b[0m \u001b[32m━━━━━━━━━━━━━━━━━━━━\u001b[0m\u001b[37m\u001b[0m \u001b[1m147s\u001b[0m 167ms/step - accuracy: 0.3553 - loss: 1.8032 - val_accuracy: 0.5369 - val_loss: 1.2794\n",
      "Epoch 2/20\n",
      "\u001b[1m792/792\u001b[0m \u001b[32m━━━━━━━━━━━━━━━━━━━━\u001b[0m\u001b[37m\u001b[0m \u001b[1m0s\u001b[0m 120ms/step - accuracy: 0.5265 - loss: 1.2873\n",
      "Epoch 2: val_accuracy improved from 0.53693 to 0.58239, saving model to efficientnetb0_model.keras\n",
      "\u001b[1m792/792\u001b[0m \u001b[32m━━━━━━━━━━━━━━━━━━━━\u001b[0m\u001b[37m\u001b[0m \u001b[1m121s\u001b[0m 149ms/step - accuracy: 0.5265 - loss: 1.2873 - val_accuracy: 0.5824 - val_loss: 1.1879\n",
      "Epoch 3/20\n",
      "\u001b[1m792/792\u001b[0m \u001b[32m━━━━━━━━━━━━━━━━━━━━\u001b[0m\u001b[37m\u001b[0m \u001b[1m0s\u001b[0m 122ms/step - accuracy: 0.5694 - loss: 1.1713\n",
      "Epoch 3: val_accuracy did not improve from 0.58239\n",
      "\u001b[1m792/792\u001b[0m \u001b[32m━━━━━━━━━━━━━━━━━━━━\u001b[0m\u001b[37m\u001b[0m \u001b[1m122s\u001b[0m 149ms/step - accuracy: 0.5694 - loss: 1.1713 - val_accuracy: 0.5748 - val_loss: 1.1819\n",
      "Epoch 4/20\n",
      "\u001b[1m792/792\u001b[0m \u001b[32m━━━━━━━━━━━━━━━━━━━━\u001b[0m\u001b[37m\u001b[0m \u001b[1m0s\u001b[0m 125ms/step - accuracy: 0.5852 - loss: 1.0870\n",
      "Epoch 4: val_accuracy improved from 0.58239 to 0.58617, saving model to efficientnetb0_model.keras\n",
      "\u001b[1m792/792\u001b[0m \u001b[32m━━━━━━━━━━━━━━━━━━━━\u001b[0m\u001b[37m\u001b[0m \u001b[1m126s\u001b[0m 155ms/step - accuracy: 0.5852 - loss: 1.0870 - val_accuracy: 0.5862 - val_loss: 1.1624\n",
      "Epoch 5/20\n",
      "\u001b[1m792/792\u001b[0m \u001b[32m━━━━━━━━━━━━━━━━━━━━\u001b[0m\u001b[37m\u001b[0m \u001b[1m0s\u001b[0m 125ms/step - accuracy: 0.6155 - loss: 1.0326\n",
      "Epoch 5: val_accuracy improved from 0.58617 to 0.61506, saving model to efficientnetb0_model.keras\n",
      "\u001b[1m792/792\u001b[0m \u001b[32m━━━━━━━━━━━━━━━━━━━━\u001b[0m\u001b[37m\u001b[0m \u001b[1m126s\u001b[0m 154ms/step - accuracy: 0.6155 - loss: 1.0326 - val_accuracy: 0.6151 - val_loss: 1.1009\n",
      "Epoch 6/20\n",
      "\u001b[1m792/792\u001b[0m \u001b[32m━━━━━━━━━━━━━━━━━━━━\u001b[0m\u001b[37m\u001b[0m \u001b[1m0s\u001b[0m 129ms/step - accuracy: 0.6208 - loss: 0.9704\n",
      "Epoch 6: val_accuracy did not improve from 0.61506\n",
      "\u001b[1m792/792\u001b[0m \u001b[32m━━━━━━━━━━━━━━━━━━━━\u001b[0m\u001b[37m\u001b[0m \u001b[1m129s\u001b[0m 158ms/step - accuracy: 0.6208 - loss: 0.9704 - val_accuracy: 0.5919 - val_loss: 1.1256\n",
      "Epoch 7/20\n",
      "\u001b[1m792/792\u001b[0m \u001b[32m━━━━━━━━━━━━━━━━━━━━\u001b[0m\u001b[37m\u001b[0m \u001b[1m0s\u001b[0m 127ms/step - accuracy: 0.6473 - loss: 0.9247\n",
      "Epoch 7: val_accuracy did not improve from 0.61506\n",
      "\u001b[1m792/792\u001b[0m \u001b[32m━━━━━━━━━━━━━━━━━━━━\u001b[0m\u001b[37m\u001b[0m \u001b[1m126s\u001b[0m 155ms/step - accuracy: 0.6473 - loss: 0.9247 - val_accuracy: 0.6027 - val_loss: 1.1267\n",
      "Epoch 8/20\n",
      "\u001b[1m792/792\u001b[0m \u001b[32m━━━━━━━━━━━━━━━━━━━━\u001b[0m\u001b[37m\u001b[0m \u001b[1m0s\u001b[0m 122ms/step - accuracy: 0.6553 - loss: 0.8978\n",
      "Epoch 8: val_accuracy did not improve from 0.61506\n",
      "\u001b[1m792/792\u001b[0m \u001b[32m━━━━━━━━━━━━━━━━━━━━\u001b[0m\u001b[37m\u001b[0m \u001b[1m122s\u001b[0m 149ms/step - accuracy: 0.6553 - loss: 0.8978 - val_accuracy: 0.6065 - val_loss: 1.1258\n"
     ]
    }
   ],
   "source": [
    "\n",
    "# Callback to save the best model\n",
    "checkpoint = ModelCheckpoint(\n",
    "    'efficientnetb0_model.keras',\n",
    "    monitor='val_accuracy',\n",
    "    save_best_only=True,\n",
    "    verbose=1\n",
    ")\n",
    "\n",
    "earlystopper = tf.keras.callbacks.EarlyStopping(\n",
    "    monitor='val_loss',\n",
    "    patience=3,\n",
    "    restore_best_weights=True\n",
    ")\n",
    "callbacks = [checkpoint, earlystopper]\n",
    " \n",
    "history = model.fit(\n",
    "    train_ds,\n",
    "    validation_data=val_ds,\n",
    "    epochs=EPOCHS,\n",
    "    callbacks=callbacks,\n",
    "    class_weight=class_weight_dict\n",
    ")\n"
   ]
  },
  {
   "cell_type": "code",
   "execution_count": 29,
   "metadata": {},
   "outputs": [
    {
     "name": "stdout",
     "output_type": "stream",
     "text": [
      "Epoch 1/20\n",
      "\u001b[1m792/792\u001b[0m \u001b[32m━━━━━━━━━━━━━━━━━━━━\u001b[0m\u001b[37m\u001b[0m \u001b[1m0s\u001b[0m 360ms/step - accuracy: 0.6477 - loss: 0.9100\n",
      "Epoch 1: val_accuracy improved from 0.61506 to 0.63258, saving model to efficientnetb0_model.keras\n",
      "\u001b[1m792/792\u001b[0m \u001b[32m━━━━━━━━━━━━━━━━━━━━\u001b[0m\u001b[37m\u001b[0m \u001b[1m342s\u001b[0m 395ms/step - accuracy: 0.6477 - loss: 0.9100 - val_accuracy: 0.6326 - val_loss: 1.0453\n",
      "Epoch 2/20\n",
      "\u001b[1m792/792\u001b[0m \u001b[32m━━━━━━━━━━━━━━━━━━━━\u001b[0m\u001b[37m\u001b[0m \u001b[1m0s\u001b[0m 350ms/step - accuracy: 0.7046 - loss: 0.8005\n",
      "Epoch 2: val_accuracy did not improve from 0.63258\n",
      "\u001b[1m792/792\u001b[0m \u001b[32m━━━━━━━━━━━━━━━━━━━━\u001b[0m\u001b[37m\u001b[0m \u001b[1m305s\u001b[0m 379ms/step - accuracy: 0.7046 - loss: 0.8005 - val_accuracy: 0.6321 - val_loss: 1.0450\n",
      "Epoch 3/20\n",
      "\u001b[1m792/792\u001b[0m \u001b[32m━━━━━━━━━━━━━━━━━━━━\u001b[0m\u001b[37m\u001b[0m \u001b[1m0s\u001b[0m 381ms/step - accuracy: 0.7054 - loss: 0.7498\n",
      "Epoch 3: val_accuracy improved from 0.63258 to 0.64157, saving model to efficientnetb0_model.keras\n",
      "\u001b[1m792/792\u001b[0m \u001b[32m━━━━━━━━━━━━━━━━━━━━\u001b[0m\u001b[37m\u001b[0m \u001b[1m328s\u001b[0m 410ms/step - accuracy: 0.7054 - loss: 0.7498 - val_accuracy: 0.6416 - val_loss: 1.0012\n",
      "Epoch 4/20\n",
      "\u001b[1m792/792\u001b[0m \u001b[32m━━━━━━━━━━━━━━━━━━━━\u001b[0m\u001b[37m\u001b[0m \u001b[1m0s\u001b[0m 347ms/step - accuracy: 0.7223 - loss: 0.7148\n",
      "Epoch 4: val_accuracy improved from 0.64157 to 0.64394, saving model to efficientnetb0_model.keras\n",
      "\u001b[1m792/792\u001b[0m \u001b[32m━━━━━━━━━━━━━━━━━━━━\u001b[0m\u001b[37m\u001b[0m \u001b[1m304s\u001b[0m 376ms/step - accuracy: 0.7223 - loss: 0.7148 - val_accuracy: 0.6439 - val_loss: 0.9977\n",
      "Epoch 5/20\n",
      "\u001b[1m792/792\u001b[0m \u001b[32m━━━━━━━━━━━━━━━━━━━━\u001b[0m\u001b[37m\u001b[0m \u001b[1m0s\u001b[0m 353ms/step - accuracy: 0.7197 - loss: 0.6933\n",
      "Epoch 5: val_accuracy improved from 0.64394 to 0.64773, saving model to efficientnetb0_model.keras\n",
      "\u001b[1m792/792\u001b[0m \u001b[32m━━━━━━━━━━━━━━━━━━━━\u001b[0m\u001b[37m\u001b[0m \u001b[1m311s\u001b[0m 382ms/step - accuracy: 0.7197 - loss: 0.6933 - val_accuracy: 0.6477 - val_loss: 1.0047\n",
      "Epoch 6/20\n",
      "\u001b[1m792/792\u001b[0m \u001b[32m━━━━━━━━━━━━━━━━━━━━\u001b[0m\u001b[37m\u001b[0m \u001b[1m0s\u001b[0m 363ms/step - accuracy: 0.7342 - loss: 0.6486\n",
      "Epoch 6: val_accuracy improved from 0.64773 to 0.65862, saving model to efficientnetb0_model.keras\n",
      "\u001b[1m792/792\u001b[0m \u001b[32m━━━━━━━━━━━━━━━━━━━━\u001b[0m\u001b[37m\u001b[0m \u001b[1m320s\u001b[0m 393ms/step - accuracy: 0.7342 - loss: 0.6486 - val_accuracy: 0.6586 - val_loss: 0.9738\n",
      "Epoch 7/20\n"
     ]
    },
    {
     "name": "stderr",
     "output_type": "stream",
     "text": [
      "2025-05-18 21:40:15.793990: I tensorflow/core/kernels/data/shuffle_dataset_op.cc:452] ShuffleDatasetV3:29: Filling up shuffle buffer (this may take a while): 727 of 1000\n",
      "2025-05-18 21:40:16.423716: I tensorflow/core/kernels/data/shuffle_dataset_op.cc:482] Shuffle buffer filled.\n"
     ]
    },
    {
     "name": "stdout",
     "output_type": "stream",
     "text": [
      "\u001b[1m792/792\u001b[0m \u001b[32m━━━━━━━━━━━━━━━━━━━━\u001b[0m\u001b[37m\u001b[0m \u001b[1m0s\u001b[0m 395ms/step - accuracy: 0.7523 - loss: 0.6240\n",
      "Epoch 7: val_accuracy did not improve from 0.65862\n",
      "\u001b[1m792/792\u001b[0m \u001b[32m━━━━━━━━━━━━━━━━━━━━\u001b[0m\u001b[37m\u001b[0m \u001b[1m347s\u001b[0m 424ms/step - accuracy: 0.7523 - loss: 0.6240 - val_accuracy: 0.6548 - val_loss: 0.9857\n",
      "Epoch 8/20\n"
     ]
    },
    {
     "name": "stderr",
     "output_type": "stream",
     "text": [
      "2025-05-18 21:46:02.822353: I tensorflow/core/kernels/data/shuffle_dataset_op.cc:452] ShuffleDatasetV3:29: Filling up shuffle buffer (this may take a while): 707 of 1000\n",
      "2025-05-18 21:46:04.336151: I tensorflow/core/kernels/data/shuffle_dataset_op.cc:482] Shuffle buffer filled.\n"
     ]
    },
    {
     "name": "stdout",
     "output_type": "stream",
     "text": [
      "\u001b[1m792/792\u001b[0m \u001b[32m━━━━━━━━━━━━━━━━━━━━\u001b[0m\u001b[37m\u001b[0m \u001b[1m0s\u001b[0m 397ms/step - accuracy: 0.7644 - loss: 0.5894\n",
      "Epoch 8: val_accuracy improved from 0.65862 to 0.66856, saving model to efficientnetb0_model.keras\n",
      "\u001b[1m792/792\u001b[0m \u001b[32m━━━━━━━━━━━━━━━━━━━━\u001b[0m\u001b[37m\u001b[0m \u001b[1m356s\u001b[0m 434ms/step - accuracy: 0.7644 - loss: 0.5894 - val_accuracy: 0.6686 - val_loss: 0.9402\n",
      "Epoch 9/20\n"
     ]
    },
    {
     "name": "stderr",
     "output_type": "stream",
     "text": [
      "2025-05-18 21:51:58.505323: I tensorflow/core/kernels/data/shuffle_dataset_op.cc:452] ShuffleDatasetV3:29: Filling up shuffle buffer (this may take a while): 595 of 1000\n",
      "2025-05-18 21:52:01.180246: I tensorflow/core/kernels/data/shuffle_dataset_op.cc:482] Shuffle buffer filled.\n"
     ]
    },
    {
     "name": "stdout",
     "output_type": "stream",
     "text": [
      "\u001b[1m792/792\u001b[0m \u001b[32m━━━━━━━━━━━━━━━━━━━━\u001b[0m\u001b[37m\u001b[0m \u001b[1m0s\u001b[0m 394ms/step - accuracy: 0.7655 - loss: 0.5822\n",
      "Epoch 9: val_accuracy improved from 0.66856 to 0.67093, saving model to efficientnetb0_model.keras\n",
      "\u001b[1m792/792\u001b[0m \u001b[32m━━━━━━━━━━━━━━━━━━━━\u001b[0m\u001b[37m\u001b[0m \u001b[1m350s\u001b[0m 425ms/step - accuracy: 0.7655 - loss: 0.5822 - val_accuracy: 0.6709 - val_loss: 0.9729\n",
      "Epoch 10/20\n"
     ]
    },
    {
     "name": "stderr",
     "output_type": "stream",
     "text": [
      "2025-05-18 21:57:47.946193: I tensorflow/core/kernels/data/shuffle_dataset_op.cc:452] ShuffleDatasetV3:29: Filling up shuffle buffer (this may take a while): 625 of 1000\n",
      "2025-05-18 21:57:50.980425: I tensorflow/core/kernels/data/shuffle_dataset_op.cc:482] Shuffle buffer filled.\n"
     ]
    },
    {
     "name": "stdout",
     "output_type": "stream",
     "text": [
      "\u001b[1m792/792\u001b[0m \u001b[32m━━━━━━━━━━━━━━━━━━━━\u001b[0m\u001b[37m\u001b[0m \u001b[1m0s\u001b[0m 399ms/step - accuracy: 0.7792 - loss: 0.5598\n",
      "Epoch 10: val_accuracy did not improve from 0.67093\n",
      "\u001b[1m792/792\u001b[0m \u001b[32m━━━━━━━━━━━━━━━━━━━━\u001b[0m\u001b[37m\u001b[0m \u001b[1m352s\u001b[0m 428ms/step - accuracy: 0.7792 - loss: 0.5598 - val_accuracy: 0.6667 - val_loss: 0.9608\n",
      "Epoch 11/20\n"
     ]
    },
    {
     "name": "stderr",
     "output_type": "stream",
     "text": [
      "2025-05-18 22:03:40.517490: I tensorflow/core/kernels/data/shuffle_dataset_op.cc:452] ShuffleDatasetV3:29: Filling up shuffle buffer (this may take a while): 643 of 1000\n",
      "2025-05-18 22:03:43.572779: I tensorflow/core/kernels/data/shuffle_dataset_op.cc:482] Shuffle buffer filled.\n"
     ]
    },
    {
     "name": "stdout",
     "output_type": "stream",
     "text": [
      "\u001b[1m792/792\u001b[0m \u001b[32m━━━━━━━━━━━━━━━━━━━━\u001b[0m\u001b[37m\u001b[0m \u001b[1m0s\u001b[0m 400ms/step - accuracy: 0.7784 - loss: 0.5488\n",
      "Epoch 11: val_accuracy improved from 0.67093 to 0.67756, saving model to efficientnetb0_model.keras\n",
      "\u001b[1m792/792\u001b[0m \u001b[32m━━━━━━━━━━━━━━━━━━━━\u001b[0m\u001b[37m\u001b[0m \u001b[1m355s\u001b[0m 431ms/step - accuracy: 0.7784 - loss: 0.5488 - val_accuracy: 0.6776 - val_loss: 0.9374\n",
      "Epoch 12/20\n"
     ]
    },
    {
     "name": "stderr",
     "output_type": "stream",
     "text": [
      "2025-05-18 22:09:35.262927: I tensorflow/core/kernels/data/shuffle_dataset_op.cc:452] ShuffleDatasetV3:29: Filling up shuffle buffer (this may take a while): 559 of 1000\n",
      "2025-05-18 22:09:39.928843: I tensorflow/core/kernels/data/shuffle_dataset_op.cc:482] Shuffle buffer filled.\n"
     ]
    },
    {
     "name": "stdout",
     "output_type": "stream",
     "text": [
      "\u001b[1m792/792\u001b[0m \u001b[32m━━━━━━━━━━━━━━━━━━━━\u001b[0m\u001b[37m\u001b[0m \u001b[1m0s\u001b[0m 398ms/step - accuracy: 0.7953 - loss: 0.5077\n",
      "Epoch 12: val_accuracy did not improve from 0.67756\n",
      "\u001b[1m792/792\u001b[0m \u001b[32m━━━━━━━━━━━━━━━━━━━━\u001b[0m\u001b[37m\u001b[0m \u001b[1m353s\u001b[0m 427ms/step - accuracy: 0.7953 - loss: 0.5077 - val_accuracy: 0.6761 - val_loss: 0.9769\n",
      "Epoch 13/20\n"
     ]
    },
    {
     "name": "stderr",
     "output_type": "stream",
     "text": [
      "2025-05-18 22:15:28.608200: I tensorflow/core/kernels/data/shuffle_dataset_op.cc:452] ShuffleDatasetV3:29: Filling up shuffle buffer (this may take a while): 572 of 1000\n",
      "2025-05-18 22:15:33.358010: I tensorflow/core/kernels/data/shuffle_dataset_op.cc:482] Shuffle buffer filled.\n"
     ]
    },
    {
     "name": "stdout",
     "output_type": "stream",
     "text": [
      "\u001b[1m792/792\u001b[0m \u001b[32m━━━━━━━━━━━━━━━━━━━━\u001b[0m\u001b[37m\u001b[0m \u001b[1m0s\u001b[0m 397ms/step - accuracy: 0.8054 - loss: 0.4808\n",
      "Epoch 13: val_accuracy did not improve from 0.67756\n",
      "\u001b[1m792/792\u001b[0m \u001b[32m━━━━━━━━━━━━━━━━━━━━\u001b[0m\u001b[37m\u001b[0m \u001b[1m353s\u001b[0m 427ms/step - accuracy: 0.8054 - loss: 0.4808 - val_accuracy: 0.6742 - val_loss: 1.0051\n",
      "Epoch 14/20\n"
     ]
    },
    {
     "name": "stderr",
     "output_type": "stream",
     "text": [
      "2025-05-18 22:21:21.596544: I tensorflow/core/kernels/data/shuffle_dataset_op.cc:452] ShuffleDatasetV3:29: Filling up shuffle buffer (this may take a while): 603 of 1000\n",
      "2025-05-18 22:21:25.668747: I tensorflow/core/kernels/data/shuffle_dataset_op.cc:482] Shuffle buffer filled.\n"
     ]
    },
    {
     "name": "stdout",
     "output_type": "stream",
     "text": [
      "\u001b[1m792/792\u001b[0m \u001b[32m━━━━━━━━━━━━━━━━━━━━\u001b[0m\u001b[37m\u001b[0m \u001b[1m0s\u001b[0m 394ms/step - accuracy: 0.8024 - loss: 0.4740\n",
      "Epoch 14: val_accuracy did not improve from 0.67756\n",
      "\u001b[1m792/792\u001b[0m \u001b[32m━━━━━━━━━━━━━━━━━━━━\u001b[0m\u001b[37m\u001b[0m \u001b[1m349s\u001b[0m 423ms/step - accuracy: 0.8024 - loss: 0.4739 - val_accuracy: 0.6747 - val_loss: 1.0174\n"
     ]
    }
   ],
   "source": [
    "base_model.trainable = True\n",
    "for layer in base_model.layers:\n",
    "    if isinstance(layer, tf.keras.layers.BatchNormalization):\n",
    "        layer.trainable = False\n",
    "\n",
    "\n",
    "model.compile(optimizer=tf.keras.optimizers.Adam(1e-5),\n",
    "              loss='sparse_categorical_crossentropy',\n",
    "              metrics=metrics)\n",
    "\n",
    "\n",
    "fine_tune_epochs = 20\n",
    "history_finetune = model.fit(train_ds,\n",
    "                             validation_data=val_ds,\n",
    "                             epochs=fine_tune_epochs,\n",
    "                             callbacks=callbacks, class_weight=class_weight_dict)"
   ]
  },
  {
   "cell_type": "code",
   "execution_count": 30,
   "metadata": {},
   "outputs": [
    {
     "data": {
      "image/png": "[encoded data removed]",
      "text/plain": [
       "<Figure size 1400x500 with 2 Axes>"
      ]
     },
     "metadata": {},
     "output_type": "display_data"
    }
   ],
   "source": [
    "def plot_combined_history(history, history_finetune):\n",
    "    # Combine the accuracy and loss\n",
    "    acc = history.history['val_accuracy'] + history_finetune.history['val_accuracy']\n",
    "    loss = history.history['val_loss'] + history_finetune.history['val_loss']\n",
    "    \n",
    "    train_acc = history.history['accuracy'] + history_finetune.history['accuracy']\n",
    "    train_loss = history.history['loss'] + history_finetune.history['loss']\n",
    "\n",
    "    epochs = range(1, len(acc) + 1)\n",
    "\n",
    "    plt.figure(figsize=(14, 5))\n",
    "\n",
    "    # Accuracy\n",
    "    plt.subplot(1, 2, 1)\n",
    "    plt.plot(epochs, acc, label='Validation Accuracy')\n",
    "    plt.plot(epochs, train_acc, label='Train Accuracy', linestyle='--')\n",
    "    plt.axvline(x=len(history.history['accuracy']), color='gray', linestyle=':', label='Fine-tuning Start')\n",
    "    plt.title('Validation vs. Train Accuracy')\n",
    "    plt.xlabel('Epoch')\n",
    "    plt.ylabel('Accuracy')\n",
    "    plt.legend()\n",
    "\n",
    "    # Loss\n",
    "    plt.subplot(1, 2, 2)\n",
    "    plt.plot(epochs, loss, label='Validation Loss')\n",
    "    plt.plot(epochs, train_loss, label='Train Loss', linestyle='--')\n",
    "    plt.axvline(x=len(history.history['loss']), color='gray', linestyle=':', label='Fine-tuning Start')\n",
    "    plt.title('Validation vs. Train Loss')\n",
    "    plt.xlabel('Epoch')\n",
    "    plt.ylabel('Loss')\n",
    "    plt.legend()\n",
    "\n",
    "    plt.tight_layout()\n",
    "    plt.show()\n",
    "plot_combined_history(history, history_finetune)\n"
   ]
  },
  {
   "cell_type": "markdown",
   "metadata": {},
   "source": [
    "## Test dataset"
   ]
  },
  {
   "cell_type": "code",
   "execution_count": 31,
   "metadata": {},
   "outputs": [
    {
     "name": "stdout",
     "output_type": "stream",
     "text": [
      "Found 2112 files belonging to 12 classes.\n"
     ]
    }
   ],
   "source": [
    "test_df = tf.keras.utils.image_dataset_from_directory(\n",
    "    SLICED_DIR / \"test\",\n",
    "    image_size=TRAIN_IMG_SIZE,\n",
    "    batch_size=BATCH_SIZE,\n",
    "    seed=SEED,\n",
    "    shuffle=False\n",
    ")"
   ]
  },
  {
   "cell_type": "code",
   "execution_count": 32,
   "metadata": {},
   "outputs": [
    {
     "name": "stdout",
     "output_type": "stream",
     "text": [
      "\u001b[1m264/264\u001b[0m \u001b[32m━━━━━━━━━━━━━━━━━━━━\u001b[0m\u001b[37m\u001b[0m \u001b[1m27s\u001b[0m 92ms/step\n"
     ]
    },
    {
     "data": {
      "application/vnd.plotly.v1+json": {
       "config": {
        "plotlyServerURL": "https://plot.ly"
       },
       "data": [
        {
         "coloraxis": "coloraxis",
         "type": "heatmap",
         "x": [
          "argentina",
          "austria",
          "canada",
          "chile",
          "france",
          "iceland",
          "italy",
          "japan",
          "new_zealand",
          "norway",
          "peru",
          "switzerland"
         ],
         "y": [
          "argentina",
          "austria",
          "canada",
          "chile",
          "france",
          "iceland",
          "italy",
          "japan",
          "new_zealand",
          "norway",
          "peru",
          "switzerland"
         ],
         "z": {
          "bdata": "VVVVVVV1UEAAAAAAAAAAAAAAAAAAAAAAVVVVVVVVLEAAAAAAAAAEQKuqqqqqqhpAAAAAAAAAAACrqqqqqqrqPwAAAAAAAAAAq6qqqqqq+j8AAAAAAAAeQKuqqqqqquo/AAAAAAAAAACqqqqqqupGQO0ltJfQXhRAAAAAAAAAAAAvob2E9hIYQI7jOI7jOPY/JrSX0F7CNUDQXkJ7Ce0JQAAAAAAAAAAAjuM4juM4BkAS2ktoL6HtP9BeQnsJ7SlAAAAAAAAAAAAAAAAAAAAAAH5orA+N9VZAFbycgpdT4D8VvJyCl1PgPxW8nIKXU+A/HxrrQ2N9CEAAAAAAAAAAAAAAAAAAAAAAFbycgpdT4D8AAAAAAAAAAB8a60NjfQhAAAAAAAAAFEAAAAAAAAAAAAAAAAAAAAAAAAAAAACAVUAAAAAAAAAAQAAAAAAAAABAAAAAAAAA8D8AAAAAAADwPwAAAAAAAAAAAAAAAAAAAAAAAAAAAAAAQAAAAAAAAPA/+oK+oC/o+z+OuCPuiDseQDzijrgj7hRAp6wpa8qa8j8Sd8QdcUdAQNAX9AV9QQdAxR1xR9wRLUASd8QdcUcwQKesKWvKmuI/p6wpa8qa8j8AAAAAAAAAABJ3xB1xRzBAFrKQhSxk8T8AAAAAAAAAABaykIUsZBFAAAAAAAAAAAAWspCFLGTxP7KQhSxkYVRAIQtZyEIWCkAhC1nIQhYKQAAAAAAAAAAAFrKQhSxk8T8WspCFLGQBQBaykIUsZAFAAAAAAAAAAAAAAAAAAIAyQAAAAAAAABpAAAAAAAAA8D8AAAAAAAAgQAAAAAAAABBAAAAAAADAQUAAAAAAAAAaQAAAAAAAAAAAAQAAAAAADEAAAAAAAAD4PwAAAAAAAC5AAAAAAAAAAAAAAAAAAAAAQAAAAAAAAABAAAAAAAAA4D8AAAAAAAAIQAAAAAAAAPA/AAAAAAAA8D8AAAAAAEBWQAAAAAAAAAAAAAAAAAAA4D8AAAAAAAAAAAAAAAAAAPA/AAAAAAAAAAAAAAAAAAAAAAAAAAAAAAAAAAAAAAAA5D8AAAAAAAAAAAAAAAAAAOQ/AAAAAAAAAAAAAAAAAAAAAAAAAAAAiFhAAAAAAAAAAAAAAAAAAAAAAAAAAAAAAOQ/AAAAAAAAAAAAAAAAAAAAABaykIUsZAFAAAAAAAAAAAAAAAAAAAAAAAAAAAAAAAAAFrKQhSxk8T+oN73pTW8OQAAAAAAAAAAAhixkIQsZV0AAAAAAAAAAABaykIUsZOE/AAAAAABQJEAAAAAAAADpPwAAAAAAAAAAAAAAAADgJUAAAAAAAEAfQAAAAAAAAPk/AAAAAAAA+T8AAAAAAMACQAAAAAAAAAAAAAAAAADAAkAAAAAAAEBPQAAAAAAAAAAAAAAAAAAAAAAdbd6nuGQgQL1PcckQrBNAAAAAAAAAAAAdbd6nuGQAQPwUlwzBOto/xSVDsI42IUBp8z7FJUMzQAAAAAAAAAAAHW3ep7hkAEAAAAAAAAAAAM77FJcMQUtA",
          "dtype": "f8",
          "shape": "12, 12"
         },
         "zmax": 100,
         "zmin": 0
        }
       ],
       "layout": {
        "coloraxis": {
         "colorscale": [
          [
           0,
           "rgb(247,251,255)"
          ],
          [
           0.125,
           "rgb(222,235,247)"
          ],
          [
           0.25,
           "rgb(198,219,239)"
          ],
          [
           0.375,
           "rgb(158,202,225)"
          ],
          [
           0.5,
           "rgb(107,174,214)"
          ],
          [
           0.625,
           "rgb(66,146,198)"
          ],
          [
           0.75,
           "rgb(33,113,181)"
          ],
          [
           0.875,
           "rgb(8,81,156)"
          ],
          [
           1,
           "rgb(8,48,107)"
          ]
         ]
        },
        "template": {
         "data": {
          "bar": [
           {
            "error_x": {
             "color": "#2a3f5f"
            },
            "error_y": {
             "color": "#2a3f5f"
            },
            "marker": {
             "line": {
              "color": "#E5ECF6",
              "width": 0.5
             },
             "pattern": {
              "fillmode": "overlay",
              "size": 10,
              "solidity": 0.2
             }
            },
            "type": "bar"
           }
          ],
          "barpolar": [
           {
            "marker": {
             "line": {
              "color": "#E5ECF6",
              "width": 0.5
             },
             "pattern": {
              "fillmode": "overlay",
              "size": 10,
              "solidity": 0.2
             }
            },
            "type": "barpolar"
           }
          ],
          "carpet": [
           {
            "aaxis": {
             "endlinecolor": "#2a3f5f",
             "gridcolor": "white",
             "linecolor": "white",
             "minorgridcolor": "white",
             "startlinecolor": "#2a3f5f"
            },
            "baxis": {
             "endlinecolor": "#2a3f5f",
             "gridcolor": "white",
             "linecolor": "white",
             "minorgridcolor": "white",
             "startlinecolor": "#2a3f5f"
            },
            "type": "carpet"
           }
          ],
          "choropleth": [
           {
            "colorbar": {
             "outlinewidth": 0,
             "ticks": ""
            },
            "type": "choropleth"
           }
          ],
          "contour": [
           {
            "colorbar": {
             "outlinewidth": 0,
             "ticks": ""
            },
            "colorscale": [
             [
              0,
              "#0d0887"
             ],
             [
              0.1111111111111111,
              "#46039f"
             ],
             [
              0.2222222222222222,
              "#7201a8"
             ],
             [
              0.3333333333333333,
              "#9c179e"
             ],
             [
              0.4444444444444444,
              "#bd3786"
             ],
             [
              0.5555555555555556,
              "#d8576b"
             ],
             [
              0.6666666666666666,
              "#ed7953"
             ],
             [
              0.7777777777777778,
              "#fb9f3a"
             ],
             [
              0.8888888888888888,
              "#fdca26"
             ],
             [
              1,
              "#f0f921"
             ]
            ],
            "type": "contour"
           }
          ],
          "contourcarpet": [
           {
            "colorbar": {
             "outlinewidth": 0,
             "ticks": ""
            },
            "type": "contourcarpet"
           }
          ],
          "heatmap": [
           {
            "colorbar": {
             "outlinewidth": 0,
             "ticks": ""
            },
            "colorscale": [
             [
              0,
              "#0d0887"
             ],
             [
              0.1111111111111111,
              "#46039f"
             ],
             [
              0.2222222222222222,
              "#7201a8"
             ],
             [
              0.3333333333333333,
              "#9c179e"
             ],
             [
              0.4444444444444444,
              "#bd3786"
             ],
             [
              0.5555555555555556,
              "#d8576b"
             ],
             [
              0.6666666666666666,
              "#ed7953"
             ],
             [
              0.7777777777777778,
              "#fb9f3a"
             ],
             [
              0.8888888888888888,
              "#fdca26"
             ],
             [
              1,
              "#f0f921"
             ]
            ],
            "type": "heatmap"
           }
          ],
          "histogram": [
           {
            "marker": {
             "pattern": {
              "fillmode": "overlay",
              "size": 10,
              "solidity": 0.2
             }
            },
            "type": "histogram"
           }
          ],
          "histogram2d": [
           {
            "colorbar": {
             "outlinewidth": 0,
             "ticks": ""
            },
            "colorscale": [
             [
              0,
              "#0d0887"
             ],
             [
              0.1111111111111111,
              "#46039f"
             ],
             [
              0.2222222222222222,
              "#7201a8"
             ],
             [
              0.3333333333333333,
              "#9c179e"
             ],
             [
              0.4444444444444444,
              "#bd3786"
             ],
             [
              0.5555555555555556,
              "#d8576b"
             ],
             [
              0.6666666666666666,
              "#ed7953"
             ],
             [
              0.7777777777777778,
              "#fb9f3a"
             ],
             [
              0.8888888888888888,
              "#fdca26"
             ],
             [
              1,
              "#f0f921"
             ]
            ],
            "type": "histogram2d"
           }
          ],
          "histogram2dcontour": [
           {
            "colorbar": {
             "outlinewidth": 0,
             "ticks": ""
            },
            "colorscale": [
             [
              0,
              "#0d0887"
             ],
             [
              0.1111111111111111,
              "#46039f"
             ],
             [
              0.2222222222222222,
              "#7201a8"
             ],
             [
              0.3333333333333333,
              "#9c179e"
             ],
             [
              0.4444444444444444,
              "#bd3786"
             ],
             [
              0.5555555555555556,
              "#d8576b"
             ],
             [
              0.6666666666666666,
              "#ed7953"
             ],
             [
              0.7777777777777778,
              "#fb9f3a"
             ],
             [
              0.8888888888888888,
              "#fdca26"
             ],
             [
              1,
              "#f0f921"
             ]
            ],
            "type": "histogram2dcontour"
           }
          ],
          "mesh3d": [
           {
            "colorbar": {
             "outlinewidth": 0,
             "ticks": ""
            },
            "type": "mesh3d"
           }
          ],
          "parcoords": [
           {
            "line": {
             "colorbar": {
              "outlinewidth": 0,
              "ticks": ""
             }
            },
            "type": "parcoords"
           }
          ],
          "pie": [
           {
            "automargin": true,
            "type": "pie"
           }
          ],
          "scatter": [
           {
            "fillpattern": {
             "fillmode": "overlay",
             "size": 10,
             "solidity": 0.2
            },
            "type": "scatter"
           }
          ],
          "scatter3d": [
           {
            "line": {
             "colorbar": {
              "outlinewidth": 0,
              "ticks": ""
             }
            },
            "marker": {
             "colorbar": {
              "outlinewidth": 0,
              "ticks": ""
             }
            },
            "type": "scatter3d"
           }
          ],
          "scattercarpet": [
           {
            "marker": {
             "colorbar": {
              "outlinewidth": 0,
              "ticks": ""
             }
            },
            "type": "scattercarpet"
           }
          ],
          "scattergeo": [
           {
            "marker": {
             "colorbar": {
              "outlinewidth": 0,
              "ticks": ""
             }
            },
            "type": "scattergeo"
           }
          ],
          "scattergl": [
           {
            "marker": {
             "colorbar": {
              "outlinewidth": 0,
              "ticks": ""
             }
            },
            "type": "scattergl"
           }
          ],
          "scattermap": [
           {
            "marker": {
             "colorbar": {
              "outlinewidth": 0,
              "ticks": ""
             }
            },
            "type": "scattermap"
           }
          ],
          "scattermapbox": [
           {
            "marker": {
             "colorbar": {
              "outlinewidth": 0,
              "ticks": ""
             }
            },
            "type": "scattermapbox"
           }
          ],
          "scatterpolar": [
           {
            "marker": {
             "colorbar": {
              "outlinewidth": 0,
              "ticks": ""
             }
            },
            "type": "scatterpolar"
           }
          ],
          "scatterpolargl": [
           {
            "marker": {
             "colorbar": {
              "outlinewidth": 0,
              "ticks": ""
             }
            },
            "type": "scatterpolargl"
           }
          ],
          "scatterternary": [
           {
            "marker": {
             "colorbar": {
              "outlinewidth": 0,
              "ticks": ""
             }
            },
            "type": "scatterternary"
           }
          ],
          "surface": [
           {
            "colorbar": {
             "outlinewidth": 0,
             "ticks": ""
            },
            "colorscale": [
             [
              0,
              "#0d0887"
             ],
             [
              0.1111111111111111,
              "#46039f"
             ],
             [
              0.2222222222222222,
              "#7201a8"
             ],
             [
              0.3333333333333333,
              "#9c179e"
             ],
             [
              0.4444444444444444,
              "#bd3786"
             ],
             [
              0.5555555555555556,
              "#d8576b"
             ],
             [
              0.6666666666666666,
              "#ed7953"
             ],
             [
              0.7777777777777778,
              "#fb9f3a"
             ],
             [
              0.8888888888888888,
              "#fdca26"
             ],
             [
              1,
              "#f0f921"
             ]
            ],
            "type": "surface"
           }
          ],
          "table": [
           {
            "cells": {
             "fill": {
              "color": "#EBF0F8"
             },
             "line": {
              "color": "white"
             }
            },
            "header": {
             "fill": {
              "color": "#C8D4E3"
             },
             "line": {
              "color": "white"
             }
            },
            "type": "table"
           }
          ]
         },
         "layout": {
          "annotationdefaults": {
           "arrowcolor": "#2a3f5f",
           "arrowhead": 0,
           "arrowwidth": 1
          },
          "autotypenumbers": "strict",
          "coloraxis": {
           "colorbar": {
            "outlinewidth": 0,
            "ticks": ""
           }
          },
          "colorscale": {
           "diverging": [
            [
             0,
             "#8e0152"
            ],
            [
             0.1,
             "#c51b7d"
            ],
            [
             0.2,
             "#de77ae"
            ],
            [
             0.3,
             "#f1b6da"
            ],
            [
             0.4,
             "#fde0ef"
            ],
            [
             0.5,
             "#f7f7f7"
            ],
            [
             0.6,
             "#e6f5d0"
            ],
            [
             0.7,
             "#b8e186"
            ],
            [
             0.8,
             "#7fbc41"
            ],
            [
             0.9,
             "#4d9221"
            ],
            [
             1,
             "#276419"
            ]
           ],
           "sequential": [
            [
             0,
             "#0d0887"
            ],
            [
             0.1111111111111111,
             "#46039f"
            ],
            [
             0.2222222222222222,
             "#7201a8"
            ],
            [
             0.3333333333333333,
             "#9c179e"
            ],
            [
             0.4444444444444444,
             "#bd3786"
            ],
            [
             0.5555555555555556,
             "#d8576b"
            ],
            [
             0.6666666666666666,
             "#ed7953"
            ],
            [
             0.7777777777777778,
             "#fb9f3a"
            ],
            [
             0.8888888888888888,
             "#fdca26"
            ],
            [
             1,
             "#f0f921"
            ]
           ],
           "sequentialminus": [
            [
             0,
             "#0d0887"
            ],
            [
             0.1111111111111111,
             "#46039f"
            ],
            [
             0.2222222222222222,
             "#7201a8"
            ],
            [
             0.3333333333333333,
             "#9c179e"
            ],
            [
             0.4444444444444444,
             "#bd3786"
            ],
            [
             0.5555555555555556,
             "#d8576b"
            ],
            [
             0.6666666666666666,
             "#ed7953"
            ],
            [
             0.7777777777777778,
             "#fb9f3a"
            ],
            [
             0.8888888888888888,
             "#fdca26"
            ],
            [
             1,
             "#f0f921"
            ]
           ]
          },
          "colorway": [
           "#636efa",
           "#EF553B",
           "#00cc96",
           "#ab63fa",
           "#FFA15A",
           "#19d3f3",
           "#FF6692",
           "#B6E880",
           "#FF97FF",
           "#FECB52"
          ],
          "font": {
           "color": "#2a3f5f"
          },
          "geo": {
           "bgcolor": "white",
           "lakecolor": "white",
           "landcolor": "#E5ECF6",
           "showlakes": true,
           "showland": true,
           "subunitcolor": "white"
          },
          "hoverlabel": {
           "align": "left"
          },
          "hovermode": "closest",
          "mapbox": {
           "style": "light"
          },
          "paper_bgcolor": "white",
          "plot_bgcolor": "#E5ECF6",
          "polar": {
           "angularaxis": {
            "gridcolor": "white",
            "linecolor": "white",
            "ticks": ""
           },
           "bgcolor": "#E5ECF6",
           "radialaxis": {
            "gridcolor": "white",
            "linecolor": "white",
            "ticks": ""
           }
          },
          "scene": {
           "xaxis": {
            "backgroundcolor": "#E5ECF6",
            "gridcolor": "white",
            "gridwidth": 2,
            "linecolor": "white",
            "showbackground": true,
            "ticks": "",
            "zerolinecolor": "white"
           },
           "yaxis": {
            "backgroundcolor": "#E5ECF6",
            "gridcolor": "white",
            "gridwidth": 2,
            "linecolor": "white",
            "showbackground": true,
            "ticks": "",
            "zerolinecolor": "white"
           },
           "zaxis": {
            "backgroundcolor": "#E5ECF6",
            "gridcolor": "white",
            "gridwidth": 2,
            "linecolor": "white",
            "showbackground": true,
            "ticks": "",
            "zerolinecolor": "white"
           }
          },
          "shapedefaults": {
           "line": {
            "color": "#2a3f5f"
           }
          },
          "ternary": {
           "aaxis": {
            "gridcolor": "white",
            "linecolor": "white",
            "ticks": ""
           },
           "baxis": {
            "gridcolor": "white",
            "linecolor": "white",
            "ticks": ""
           },
           "bgcolor": "#E5ECF6",
           "caxis": {
            "gridcolor": "white",
            "linecolor": "white",
            "ticks": ""
           }
          },
          "title": {
           "x": 0.05
          },
          "xaxis": {
           "automargin": true,
           "gridcolor": "white",
           "linecolor": "white",
           "ticks": "",
           "title": {
            "standoff": 15
           },
           "zerolinecolor": "white",
           "zerolinewidth": 2
          },
          "yaxis": {
           "automargin": true,
           "gridcolor": "white",
           "linecolor": "white",
           "ticks": "",
           "title": {
            "standoff": 15
           },
           "zerolinecolor": "white",
           "zerolinewidth": 2
          }
         }
        },
        "title": {
         "text": "Efficientnet : 68.66%"
        },
        "xaxis": {
         "title": {
          "text": "Predicted"
         }
        },
        "yaxis": {
         "title": {
          "text": "True"
         }
        }
       }
      }
     },
     "metadata": {},
     "output_type": "display_data"
    }
   ],
   "source": [
    "# Get the true labels\n",
    "true_labels = tf.concat([y for _, y in test_df], axis=0)\n",
    "# Generate predictions\n",
    "predictions = model.predict(test_df)\n",
    "# Get the predicted labels\n",
    "predicted_labels = tf.argmax(predictions, axis=1)\n",
    "model_accuracy = np.mean(predicted_labels.numpy() == true_labels.numpy())\n",
    "\n",
    "\n",
    "# Create confusion matrix\n",
    "confusion_matrix = tf.math.confusion_matrix(\n",
    "    labels=true_labels,\n",
    "    predictions=predicted_labels,\n",
    "    num_classes=len(test_df.class_names)\n",
    ")\n",
    "\n",
    "# Normalize confusion matrix to percentage\n",
    "cm_percentage = confusion_matrix / tf.math.reduce_sum(confusion_matrix, axis=1, keepdims=True) * 100\n",
    "# Create a dataframe for the heatmap\n",
    "heatmap_df = pd.DataFrame(cm_percentage, columns=test_df.class_names, index=test_df.class_names)\n",
    "\n",
    "\n",
    "fig = go.Figure()\n",
    "fig.add_trace(\n",
    "    go.Heatmap(\n",
    "        z=heatmap_df.values,\n",
    "        x=heatmap_df.columns,\n",
    "        y=heatmap_df.index,\n",
    "        coloraxis='coloraxis',\n",
    "        zmax=100,\n",
    "        zmin=0\n",
    "    )\n",
    ")\n",
    "fig.update_xaxes(title_text='Predicted')\n",
    "fig.update_yaxes(title_text='True')\n",
    "fig.update_layout(coloraxis=dict(colorscale='Blues'), title_text='{} : {:.2f}%'.format('Efficientnet', model_accuracy * 100))\n",
    "fig.show()\n"
   ]
  },
  {
   "cell_type": "code",
   "execution_count": 33,
   "metadata": {},
   "outputs": [
    {
     "data": {
      "text/html": [
       "<div>\n",
       "<style scoped>\n",
       "    .dataframe tbody tr th:only-of-type {\n",
       "        vertical-align: middle;\n",
       "    }\n",
       "\n",
       "    .dataframe tbody tr th {\n",
       "        vertical-align: top;\n",
       "    }\n",
       "\n",
       "    .dataframe thead th {\n",
       "        text-align: right;\n",
       "    }\n",
       "</style>\n",
       "<table border=\"1\" class=\"dataframe\">\n",
       "  <thead>\n",
       "    <tr style=\"text-align: right;\">\n",
       "      <th></th>\n",
       "      <th>True Label</th>\n",
       "      <th>Most Often Mistaken As</th>\n",
       "      <th>Mistake Count</th>\n",
       "    </tr>\n",
       "  </thead>\n",
       "  <tbody>\n",
       "    <tr>\n",
       "      <th>0</th>\n",
       "      <td>austria</td>\n",
       "      <td>italy</td>\n",
       "      <td>47</td>\n",
       "    </tr>\n",
       "    <tr>\n",
       "      <th>1</th>\n",
       "      <td>switzerland</td>\n",
       "      <td>japan</td>\n",
       "      <td>47</td>\n",
       "    </tr>\n",
       "    <tr>\n",
       "      <th>2</th>\n",
       "      <td>italy</td>\n",
       "      <td>austria</td>\n",
       "      <td>37</td>\n",
       "    </tr>\n",
       "    <tr>\n",
       "      <th>3</th>\n",
       "      <td>france</td>\n",
       "      <td>japan</td>\n",
       "      <td>28</td>\n",
       "    </tr>\n",
       "    <tr>\n",
       "      <th>4</th>\n",
       "      <td>argentina</td>\n",
       "      <td>chile</td>\n",
       "      <td>17</td>\n",
       "    </tr>\n",
       "    <tr>\n",
       "      <th>5</th>\n",
       "      <td>peru</td>\n",
       "      <td>chile</td>\n",
       "      <td>14</td>\n",
       "    </tr>\n",
       "    <tr>\n",
       "      <th>6</th>\n",
       "      <td>chile</td>\n",
       "      <td>argentina</td>\n",
       "      <td>10</td>\n",
       "    </tr>\n",
       "    <tr>\n",
       "      <th>7</th>\n",
       "      <td>norway</td>\n",
       "      <td>japan</td>\n",
       "      <td>7</td>\n",
       "    </tr>\n",
       "    <tr>\n",
       "      <th>8</th>\n",
       "      <td>canada</td>\n",
       "      <td>italy</td>\n",
       "      <td>6</td>\n",
       "    </tr>\n",
       "    <tr>\n",
       "      <th>9</th>\n",
       "      <td>japan</td>\n",
       "      <td>france</td>\n",
       "      <td>6</td>\n",
       "    </tr>\n",
       "    <tr>\n",
       "      <th>10</th>\n",
       "      <td>iceland</td>\n",
       "      <td>canada</td>\n",
       "      <td>4</td>\n",
       "    </tr>\n",
       "    <tr>\n",
       "      <th>11</th>\n",
       "      <td>new_zealand</td>\n",
       "      <td>chile</td>\n",
       "      <td>1</td>\n",
       "    </tr>\n",
       "  </tbody>\n",
       "</table>\n",
       "</div>"
      ],
      "text/plain": [
       "     True Label Most Often Mistaken As  Mistake Count\n",
       "0       austria                  italy             47\n",
       "1   switzerland                  japan             47\n",
       "2         italy                austria             37\n",
       "3        france                  japan             28\n",
       "4     argentina                  chile             17\n",
       "5          peru                  chile             14\n",
       "6         chile              argentina             10\n",
       "7        norway                  japan              7\n",
       "8        canada                  italy              6\n",
       "9         japan                 france              6\n",
       "10      iceland                 canada              4\n",
       "11  new_zealand                  chile              1"
      ]
     },
     "execution_count": 33,
     "metadata": {},
     "output_type": "execute_result"
    }
   ],
   "source": [
    "# Mistake summary\n",
    "mistake_summary = {}\n",
    "cm_np = confusion_matrix.numpy()\n",
    "\n",
    "for i, true_class in enumerate(class_names):\n",
    "    row =  cm_np[i].copy()\n",
    "    row[i] = 0  # ignore correct predictions\n",
    "    if row.sum() == 0:\n",
    "        continue\n",
    "    most_confused_idx = np.argmax(row)\n",
    "    mistake_summary[true_class] = {\n",
    "        \"Mistaken As\": class_names[most_confused_idx],\n",
    "        \"Mistake Count\": row[most_confused_idx]\n",
    "    }\n",
    "\n",
    "mistake_df = pd.DataFrame([\n",
    "    {\"True Label\": k, \"Most Often Mistaken As\": v[\"Mistaken As\"], \"Mistake Count\": v[\"Mistake Count\"]}\n",
    "    for k, v in mistake_summary.items()\n",
    "]).sort_values(by=\"Mistake Count\", ascending=False).reset_index(drop=True)\n",
    "mistake_df"
   ]
  },
  {
   "cell_type": "code",
   "execution_count": 34,
   "metadata": {},
   "outputs": [
    {
     "name": "stdout",
     "output_type": "stream",
     "text": [
      "              precision    recall  f1-score   support\n",
      "\n",
      "   argentina      0.745     0.658     0.699       120\n",
      "     austria      0.569     0.458     0.508       216\n",
      "      canada      0.759     0.918     0.831       196\n",
      "       chile      0.819     0.860     0.839       200\n",
      "      france      0.487     0.326     0.390       172\n",
      "     iceland      0.682     0.815     0.743        92\n",
      "       italy      0.392     0.355     0.373       200\n",
      "       japan      0.616     0.890     0.728       200\n",
      " new_zealand      0.994     0.981     0.987       160\n",
      "      norway      0.859     0.924     0.890       184\n",
      "        peru      0.800     0.625     0.702       128\n",
      " switzerland      0.568     0.545     0.556       244\n",
      "\n",
      "    accuracy                          0.687      2112\n",
      "   macro avg      0.691     0.696     0.687      2112\n",
      "weighted avg      0.678     0.687     0.676      2112\n",
      "\n"
     ]
    }
   ],
   "source": [
    "# Get full report\n",
    "report = classification_report(true_labels, predicted_labels, target_names=class_names, digits=3)\n",
    "print(report)"
   ]
  },
  {
   "cell_type": "code",
   "execution_count": null,
   "metadata": {},
   "outputs": [],
   "source": [
    "GRAD_CAM_DIR.mkdir(parents=True, exist_ok=True)\n",
    "\n",
    "base_model = tf.keras.applications.EfficientNetB0(include_top=False, weights='imagenet', input_shape=(224, 224, 3))\n",
    "base_model.trainable = False\n",
    "\n",
    "data_augmentation = tf.keras.Sequential([\n",
    "    tf.keras.layers.RandomFlip(\"horizontal\"),\n",
    "    tf.keras.layers.RandomRotation(0.1),\n",
    "    tf.keras.layers.RandomZoom(0.1),\n",
    "    tf.keras.layers.RandomBrightness(0.1),\n",
    "], name=\"data_aug\")\n",
    "\n",
    "# Functional rebuild\n",
    "inputs = tf.keras.layers.Input(shape=(224, 224, 3))\n",
    "x = data_augmentation(inputs)\n",
    "x = base_model(x)\n",
    "conv_output = x\n",
    "x = tf.keras.layers.GlobalAveragePooling2D()(x)\n",
    "x = tf.keras.layers.Dense(256, activation='relu')(x)\n",
    "x = tf.keras.layers.Dropout(0.5)(x)\n",
    "outputs = tf.keras.layers.Dense(12, activation='softmax')(x)\n",
    "\n",
    "functional_model = tf.keras.models.Model(inputs, outputs)\n",
    "functional_model.set_weights(model.get_weights())\n",
    "\n",
    "# Grad-CAM model\n",
    "grad_model = tf.keras.models.Model(\n",
    "    inputs=functional_model.input,\n",
    "    outputs=[functional_model.output, conv_output]\n",
    ")\n",
    "\n",
    "def compute_gradcam(image, model, class_index):\n",
    "    with tf.GradientTape() as tape:\n",
    "        preds, conv_outputs = model(image)\n",
    "        loss = preds[:, class_index]\n",
    "\n",
    "    grads = tape.gradient(loss, conv_outputs)\n",
    "    pooled_grads = tf.reduce_mean(grads, axis=(0, 1, 2))\n",
    "    conv_outputs = conv_outputs[0]\n",
    "    heatmap = conv_outputs @ pooled_grads[..., tf.newaxis]\n",
    "    heatmap = tf.squeeze(heatmap)\n",
    "    heatmap = tf.maximum(heatmap, 0) / tf.math.reduce_max(heatmap)\n",
    "    return heatmap.numpy()\n",
    "\n",
    "\n",
    "def save_gradcam_image(image_tensor, label, pred_class, class_names, model):\n",
    "    heatmap = compute_gradcam(image_tensor, model, pred_class)\n",
    "\n",
    "    # Convert image\n",
    "    img_array = image_tensor[0].numpy()\n",
    "    img_array = np.clip(img_array, 0, 255).astype(np.uint8)\n",
    "    img_rgb = img_array\n",
    "\n",
    "    # Resize heatmap and overlay\n",
    "    heatmap_resized = cv2.resize(heatmap, (224, 224))\n",
    "    heatmap_colored = cv2.applyColorMap(np.uint8(255 * heatmap_resized), cv2.COLORMAP_JET)\n",
    "    overlay = cv2.addWeighted(img_array, 0.5, heatmap_colored, 0.5, 0)\n",
    "    overlay_rgb = cv2.cvtColor(overlay, cv2.COLOR_BGR2RGB)\n",
    "\n",
    "    _, ax = plt.subplots(1, 3, figsize=(12, 4))\n",
    "    ax[0].imshow(img_rgb)\n",
    "    ax[0].set_title(f\"Original: {class_names[label]}\")\n",
    "    ax[0].axis(\"off\")\n",
    "\n",
    "    ax[1].imshow(heatmap_resized, cmap=\"jet\")\n",
    "    ax[1].set_title(\"Grad-CAM Heatmap\")\n",
    "    ax[1].axis(\"off\")\n",
    "\n",
    "    ax[2].imshow(overlay_rgb)\n",
    "    ax[2].set_title(f\"Overlay\\nPredicted: {class_names[pred_class]}\")\n",
    "    ax[2].axis(\"off\")\n",
    "\n",
    "    plt.tight_layout()\n",
    "\n",
    "    # Save as grad_cam/truelabel_predictedlabel.png\n",
    "    filename = f\"{class_names[label]}_{class_names[pred_class]}.png\"\n",
    "    label_folder = GRAD_CAM_DIR / class_names[label]\n",
    "    label_folder.mkdir(parents=True, exist_ok=True)\n",
    "    plt.savefig(label_folder / filename)\n",
    "    plt.close()\n",
    "\n",
    "\n",
    "# Unbatch and process one image at a time\n",
    "for image, label in test_df.unbatch():\n",
    "    label_int = label.numpy()\n",
    "\n",
    "    image_batch = tf.expand_dims(tf.cast(image, tf.float32), axis=0)\n",
    "    pred = functional_model.predict(image_batch, verbose=0)\n",
    "    pred_class = tf.argmax(pred[0]).numpy()\n",
    "\n",
    "    save_gradcam_image(\n",
    "        image_batch,\n",
    "        label_int,\n",
    "        pred_class,\n",
    "        test_df.class_names,\n",
    "        grad_model\n",
    "    )"
   ]
  },
  {
   "cell_type": "code",
   "execution_count": null,
   "metadata": {},
   "outputs": [],
   "source": []
  }
 ],
 "metadata": {
  "kernelspec": {
   "display_name": "advanced_analytics",
   "language": "python",
   "name": "python3"
  },
  "language_info": {
   "codemirror_mode": {
    "name": "ipython",
    "version": 3
   },
   "file_extension": ".py",
   "mimetype": "text/x-python",
   "name": "python",
   "nbconvert_exporter": "python",
   "pygments_lexer": "ipython3",
   "version": "3.12.9"
  }
 },
 "nbformat": 4,
 "nbformat_minor": 2
}
